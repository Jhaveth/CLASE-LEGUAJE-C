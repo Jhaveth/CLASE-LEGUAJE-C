{
  "nbformat": 4,
  "nbformat_minor": 0,
  "metadata": {
    "colab": {
      "provenance": [],
      "authorship_tag": "ABX9TyNbbe8/kGK2Klu+LMAxiIrt",
      "include_colab_link": true
    },
    "kernelspec": {
      "name": "python3",
      "display_name": "Python 3"
    },
    "language_info": {
      "name": "python"
    }
  },
  "cells": [
    {
      "cell_type": "markdown",
      "metadata": {
        "id": "view-in-github",
        "colab_type": "text"
      },
      "source": [
        "<a href=\"https://colab.research.google.com/github/Jhaveth/CLASE-LEGUAJE-C/blob/main/FUNCIONES_AMIGAS.ipynb\" target=\"_parent\"><img src=\"https://colab.research.google.com/assets/colab-badge.svg\" alt=\"Open In Colab\"/></a>"
      ]
    },
    {
      "cell_type": "markdown",
      "source": [
        "## FUNCIONES AMIGAS"
      ],
      "metadata": {
        "id": "Sd5OUwelvtbj"
      }
    },
    {
      "cell_type": "code",
      "execution_count": 15,
      "metadata": {
        "colab": {
          "base_uri": "https://localhost:8080/"
        },
        "id": "Qs3nK0shu1-_",
        "outputId": "d9567404-c868-4498-c2a2-06b1298d8d9a"
      },
      "outputs": [
        {
          "output_type": "stream",
          "name": "stdout",
          "text": [
            "Overwriting friend.cpp\n"
          ]
        }
      ],
      "source": [
        "%%writefile friend.cpp\n",
        "\n",
        "#include<iostream>\n",
        "//Aquí deberas tambien agregar la funcion #include<conio.h>\n",
        "using namespace std;\n",
        "\n",
        "class Persona {\n",
        "  private:\n",
        "    string Nombre;\n",
        "    friend void FuncionAmiga(Persona&);\n",
        "\n",
        "  public:\n",
        "    Persona(string _Nombre = \"Sin nombre\"){\n",
        "      Nombre = _Nombre;}\n",
        "    void setNombre(string _Nombre){\n",
        "      Nombre = _Nombre;}\n",
        "    string getNombre(){\n",
        "      return Nombre;}\n",
        "};\n",
        "\n",
        "void FuncionAmiga(Persona &unapersona){\n",
        "  unapersona.Nombre= \"Pepe\";\n",
        "}\n",
        "\n",
        "int main() {\n",
        "   Persona p;\n",
        "   FuncionAmiga(p);\n",
        "   cout << p.getNombre() << endl;\n",
        "    return 0;\n",
        "    //getch(); se deberá usar en c++\n",
        "}"
      ]
    },
    {
      "cell_type": "code",
      "source": [
        "%%shell\n",
        "g++ friend.cpp -o mi_programa.cpp"
      ],
      "metadata": {
        "colab": {
          "base_uri": "https://localhost:8080/"
        },
        "id": "URG3LTmBwfIi",
        "outputId": "ddcfa356-246b-4b8d-d0ed-099f80eb886d"
      },
      "execution_count": 16,
      "outputs": [
        {
          "output_type": "execute_result",
          "data": {
            "text/plain": []
          },
          "metadata": {},
          "execution_count": 16
        }
      ]
    },
    {
      "cell_type": "code",
      "source": [
        "%%shell\n",
        "chmod +x ./mi_programa.cpp\n",
        "./mi_programa.cpp"
      ],
      "metadata": {
        "colab": {
          "base_uri": "https://localhost:8080/"
        },
        "id": "SN31gctqwhln",
        "outputId": "dc30c325-29a5-4f7e-96bd-74fac87fb29b"
      },
      "execution_count": 17,
      "outputs": [
        {
          "output_type": "stream",
          "name": "stdout",
          "text": [
            "Pepe\n"
          ]
        },
        {
          "output_type": "execute_result",
          "data": {
            "text/plain": []
          },
          "metadata": {},
          "execution_count": 17
        }
      ]
    },
    {
      "cell_type": "markdown",
      "source": [
        "## EJERCICIO: PROGRAMAR UNA CLASE LLAMADA SUMA QUE TENGA COMO ATRIBUTOS 2 NUMEROS ENTEROS Y QUE TENGA UNA FUNCION AMIGA TIPO ENTERO LLAMADA SUMA_AMIGA QUE SUME LOS ATRIBUTOS DE LA CLASE AMIGA"
      ],
      "metadata": {
        "id": "t3x6g-20yHFi"
      }
    }
  ]
}